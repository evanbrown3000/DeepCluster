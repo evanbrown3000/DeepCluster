{
  "nbformat": 4,
  "nbformat_minor": 2,
  "metadata": {
    "language_info": {
      "codemirror_mode": {
        "name": "ipython",
        "version": 3
      },
      "file_extension": ".py",
      "mimetype": "text/x-python",
      "name": "python",
      "nbconvert_exporter": "python",
      "pygments_lexer": "ipython3",
      "version": "3.6.9-final"
    },
    "orig_nbformat": 2,
    "kernelspec": {
      "name": "python36964bit7c8494901fd94f8798dea801ae4b8114",
      "display_name": "Python 3.6.9 64-bit",
      "language": "python"
    },
    "colab": {
      "name": "DeepCluster - Quantized Online_Retail_Sales_Forecast.ipynb",
      "provenance": [],
      "collapsed_sections": [],
      "include_colab_link": true
    },
    "widgets": {
      "application/vnd.jupyter.widget-state+json": {
        "8a0358d8dba2491bb0ce100bcf43fe5b": {
          "model_module": "@jupyter-widgets/controls",
          "model_name": "HBoxModel",
          "state": {
            "_view_name": "HBoxView",
            "_dom_classes": [],
            "_model_name": "HBoxModel",
            "_view_module": "@jupyter-widgets/controls",
            "_model_module_version": "1.5.0",
            "_view_count": null,
            "_view_module_version": "1.5.0",
            "box_style": "",
            "layout": "IPY_MODEL_df590c69000843bfbaa02f687732696c",
            "_model_module": "@jupyter-widgets/controls",
            "children": [
              "IPY_MODEL_ce58848b25af4c62b3fea4cd1e93dca8",
              "IPY_MODEL_d25f2f513f7741a7aa04fc3432efb5f9"
            ]
          }
        },
        "df590c69000843bfbaa02f687732696c": {
          "model_module": "@jupyter-widgets/base",
          "model_name": "LayoutModel",
          "state": {
            "_view_name": "LayoutView",
            "grid_template_rows": null,
            "right": null,
            "justify_content": null,
            "_view_module": "@jupyter-widgets/base",
            "overflow": null,
            "_model_module_version": "1.2.0",
            "_view_count": null,
            "flex_flow": null,
            "width": null,
            "min_width": null,
            "border": null,
            "align_items": null,
            "bottom": null,
            "_model_module": "@jupyter-widgets/base",
            "top": null,
            "grid_column": null,
            "overflow_y": null,
            "overflow_x": null,
            "grid_auto_flow": null,
            "grid_area": null,
            "grid_template_columns": null,
            "flex": null,
            "_model_name": "LayoutModel",
            "justify_items": null,
            "grid_row": null,
            "max_height": null,
            "align_content": null,
            "visibility": null,
            "align_self": null,
            "height": null,
            "min_height": null,
            "padding": null,
            "grid_auto_rows": null,
            "grid_gap": null,
            "max_width": null,
            "order": null,
            "_view_module_version": "1.2.0",
            "grid_template_areas": null,
            "object_position": null,
            "object_fit": null,
            "grid_auto_columns": null,
            "margin": null,
            "display": null,
            "left": null
          }
        },
        "ce58848b25af4c62b3fea4cd1e93dca8": {
          "model_module": "@jupyter-widgets/controls",
          "model_name": "FloatProgressModel",
          "state": {
            "_view_name": "ProgressView",
            "style": "IPY_MODEL_f7c21f878cd6436ea8ba2c33ceb7998c",
            "_dom_classes": [],
            "description": "All epochs: 100%",
            "_model_name": "FloatProgressModel",
            "bar_style": "success",
            "max": 3,
            "_view_module": "@jupyter-widgets/controls",
            "_model_module_version": "1.5.0",
            "value": 3,
            "_view_count": null,
            "_view_module_version": "1.5.0",
            "orientation": "horizontal",
            "min": 0,
            "description_tooltip": null,
            "_model_module": "@jupyter-widgets/controls",
            "layout": "IPY_MODEL_4cd4b4bc89ce412397d30a467de7c2f9"
          }
        },
        "d25f2f513f7741a7aa04fc3432efb5f9": {
          "model_module": "@jupyter-widgets/controls",
          "model_name": "HTMLModel",
          "state": {
            "_view_name": "HTMLView",
            "style": "IPY_MODEL_6f7ef34defcd49d693b9b9d8d6e6262f",
            "_dom_classes": [],
            "description": "",
            "_model_name": "HTMLModel",
            "placeholder": "​",
            "_view_module": "@jupyter-widgets/controls",
            "_model_module_version": "1.5.0",
            "value": " 3/3 [00:31&lt;00:00, 10.54s/it]",
            "_view_count": null,
            "_view_module_version": "1.5.0",
            "description_tooltip": null,
            "_model_module": "@jupyter-widgets/controls",
            "layout": "IPY_MODEL_46536fb7b7764c2090cb34e316f1f308"
          }
        },
        "f7c21f878cd6436ea8ba2c33ceb7998c": {
          "model_module": "@jupyter-widgets/controls",
          "model_name": "ProgressStyleModel",
          "state": {
            "_view_name": "StyleView",
            "_model_name": "ProgressStyleModel",
            "description_width": "initial",
            "_view_module": "@jupyter-widgets/base",
            "_model_module_version": "1.5.0",
            "_view_count": null,
            "_view_module_version": "1.2.0",
            "bar_color": null,
            "_model_module": "@jupyter-widgets/controls"
          }
        },
        "4cd4b4bc89ce412397d30a467de7c2f9": {
          "model_module": "@jupyter-widgets/base",
          "model_name": "LayoutModel",
          "state": {
            "_view_name": "LayoutView",
            "grid_template_rows": null,
            "right": null,
            "justify_content": null,
            "_view_module": "@jupyter-widgets/base",
            "overflow": null,
            "_model_module_version": "1.2.0",
            "_view_count": null,
            "flex_flow": null,
            "width": null,
            "min_width": null,
            "border": null,
            "align_items": null,
            "bottom": null,
            "_model_module": "@jupyter-widgets/base",
            "top": null,
            "grid_column": null,
            "overflow_y": null,
            "overflow_x": null,
            "grid_auto_flow": null,
            "grid_area": null,
            "grid_template_columns": null,
            "flex": null,
            "_model_name": "LayoutModel",
            "justify_items": null,
            "grid_row": null,
            "max_height": null,
            "align_content": null,
            "visibility": null,
            "align_self": null,
            "height": null,
            "min_height": null,
            "padding": null,
            "grid_auto_rows": null,
            "grid_gap": null,
            "max_width": null,
            "order": null,
            "_view_module_version": "1.2.0",
            "grid_template_areas": null,
            "object_position": null,
            "object_fit": null,
            "grid_auto_columns": null,
            "margin": null,
            "display": null,
            "left": null
          }
        },
        "6f7ef34defcd49d693b9b9d8d6e6262f": {
          "model_module": "@jupyter-widgets/controls",
          "model_name": "DescriptionStyleModel",
          "state": {
            "_view_name": "StyleView",
            "_model_name": "DescriptionStyleModel",
            "description_width": "",
            "_view_module": "@jupyter-widgets/base",
            "_model_module_version": "1.5.0",
            "_view_count": null,
            "_view_module_version": "1.2.0",
            "_model_module": "@jupyter-widgets/controls"
          }
        },
        "46536fb7b7764c2090cb34e316f1f308": {
          "model_module": "@jupyter-widgets/base",
          "model_name": "LayoutModel",
          "state": {
            "_view_name": "LayoutView",
            "grid_template_rows": null,
            "right": null,
            "justify_content": null,
            "_view_module": "@jupyter-widgets/base",
            "overflow": null,
            "_model_module_version": "1.2.0",
            "_view_count": null,
            "flex_flow": null,
            "width": null,
            "min_width": null,
            "border": null,
            "align_items": null,
            "bottom": null,
            "_model_module": "@jupyter-widgets/base",
            "top": null,
            "grid_column": null,
            "overflow_y": null,
            "overflow_x": null,
            "grid_auto_flow": null,
            "grid_area": null,
            "grid_template_columns": null,
            "flex": null,
            "_model_name": "LayoutModel",
            "justify_items": null,
            "grid_row": null,
            "max_height": null,
            "align_content": null,
            "visibility": null,
            "align_self": null,
            "height": null,
            "min_height": null,
            "padding": null,
            "grid_auto_rows": null,
            "grid_gap": null,
            "max_width": null,
            "order": null,
            "_view_module_version": "1.2.0",
            "grid_template_areas": null,
            "object_position": null,
            "object_fit": null,
            "grid_auto_columns": null,
            "margin": null,
            "display": null,
            "left": null
          }
        },
        "a890924618c24f5c8c5bba58ec5b5fae": {
          "model_module": "@jupyter-widgets/controls",
          "model_name": "HBoxModel",
          "state": {
            "_view_name": "HBoxView",
            "_dom_classes": [],
            "_model_name": "HBoxModel",
            "_view_module": "@jupyter-widgets/controls",
            "_model_module_version": "1.5.0",
            "_view_count": null,
            "_view_module_version": "1.5.0",
            "box_style": "",
            "layout": "IPY_MODEL_a8dd2a36913d4edd8e9efaff53cf0d85",
            "_model_module": "@jupyter-widgets/controls",
            "children": [
              "IPY_MODEL_b9ffcd5cad5a43228484540727849fe9",
              "IPY_MODEL_06007fa9cd274afa8e2eda602a60764f"
            ]
          }
        },
        "a8dd2a36913d4edd8e9efaff53cf0d85": {
          "model_module": "@jupyter-widgets/base",
          "model_name": "LayoutModel",
          "state": {
            "_view_name": "LayoutView",
            "grid_template_rows": null,
            "right": null,
            "justify_content": null,
            "_view_module": "@jupyter-widgets/base",
            "overflow": null,
            "_model_module_version": "1.2.0",
            "_view_count": null,
            "flex_flow": null,
            "width": null,
            "min_width": null,
            "border": null,
            "align_items": null,
            "bottom": null,
            "_model_module": "@jupyter-widgets/base",
            "top": null,
            "grid_column": null,
            "overflow_y": null,
            "overflow_x": null,
            "grid_auto_flow": null,
            "grid_area": null,
            "grid_template_columns": null,
            "flex": null,
            "_model_name": "LayoutModel",
            "justify_items": null,
            "grid_row": null,
            "max_height": null,
            "align_content": null,
            "visibility": null,
            "align_self": null,
            "height": null,
            "min_height": null,
            "padding": null,
            "grid_auto_rows": null,
            "grid_gap": null,
            "max_width": null,
            "order": null,
            "_view_module_version": "1.2.0",
            "grid_template_areas": null,
            "object_position": null,
            "object_fit": null,
            "grid_auto_columns": null,
            "margin": null,
            "display": null,
            "left": null
          }
        },
        "b9ffcd5cad5a43228484540727849fe9": {
          "model_module": "@jupyter-widgets/controls",
          "model_name": "FloatProgressModel",
          "state": {
            "_view_name": "ProgressView",
            "style": "IPY_MODEL_ed3faaee41794cf4a8098d19bb604142",
            "_dom_classes": [],
            "description": "Epoch 1/3: 100%",
            "_model_name": "FloatProgressModel",
            "bar_style": "success",
            "max": 2,
            "_view_module": "@jupyter-widgets/controls",
            "_model_module_version": "1.5.0",
            "value": 2,
            "_view_count": null,
            "_view_module_version": "1.5.0",
            "orientation": "horizontal",
            "min": 0,
            "description_tooltip": null,
            "_model_module": "@jupyter-widgets/controls",
            "layout": "IPY_MODEL_2ac2335e89e74592abc1d7ccf72e9d51"
          }
        },
        "06007fa9cd274afa8e2eda602a60764f": {
          "model_module": "@jupyter-widgets/controls",
          "model_name": "HTMLModel",
          "state": {
            "_view_name": "HTMLView",
            "style": "IPY_MODEL_5005df22cf87409e872481a8104ce95e",
            "_dom_classes": [],
            "description": "",
            "_model_name": "HTMLModel",
            "placeholder": "​",
            "_view_module": "@jupyter-widgets/controls",
            "_model_module_version": "1.5.0",
            "value": " 2/2 [00:01&lt;00:00,  1.33it/s, loss=170]",
            "_view_count": null,
            "_view_module_version": "1.5.0",
            "description_tooltip": null,
            "_model_module": "@jupyter-widgets/controls",
            "layout": "IPY_MODEL_6e3e750ef4c14f69a7d84d3914d787e3"
          }
        },
        "ed3faaee41794cf4a8098d19bb604142": {
          "model_module": "@jupyter-widgets/controls",
          "model_name": "ProgressStyleModel",
          "state": {
            "_view_name": "StyleView",
            "_model_name": "ProgressStyleModel",
            "description_width": "initial",
            "_view_module": "@jupyter-widgets/base",
            "_model_module_version": "1.5.0",
            "_view_count": null,
            "_view_module_version": "1.2.0",
            "bar_color": null,
            "_model_module": "@jupyter-widgets/controls"
          }
        },
        "2ac2335e89e74592abc1d7ccf72e9d51": {
          "model_module": "@jupyter-widgets/base",
          "model_name": "LayoutModel",
          "state": {
            "_view_name": "LayoutView",
            "grid_template_rows": null,
            "right": null,
            "justify_content": null,
            "_view_module": "@jupyter-widgets/base",
            "overflow": null,
            "_model_module_version": "1.2.0",
            "_view_count": null,
            "flex_flow": null,
            "width": null,
            "min_width": null,
            "border": null,
            "align_items": null,
            "bottom": null,
            "_model_module": "@jupyter-widgets/base",
            "top": null,
            "grid_column": null,
            "overflow_y": null,
            "overflow_x": null,
            "grid_auto_flow": null,
            "grid_area": null,
            "grid_template_columns": null,
            "flex": null,
            "_model_name": "LayoutModel",
            "justify_items": null,
            "grid_row": null,
            "max_height": null,
            "align_content": null,
            "visibility": null,
            "align_self": null,
            "height": null,
            "min_height": null,
            "padding": null,
            "grid_auto_rows": null,
            "grid_gap": null,
            "max_width": null,
            "order": null,
            "_view_module_version": "1.2.0",
            "grid_template_areas": null,
            "object_position": null,
            "object_fit": null,
            "grid_auto_columns": null,
            "margin": null,
            "display": null,
            "left": null
          }
        },
        "5005df22cf87409e872481a8104ce95e": {
          "model_module": "@jupyter-widgets/controls",
          "model_name": "DescriptionStyleModel",
          "state": {
            "_view_name": "StyleView",
            "_model_name": "DescriptionStyleModel",
            "description_width": "",
            "_view_module": "@jupyter-widgets/base",
            "_model_module_version": "1.5.0",
            "_view_count": null,
            "_view_module_version": "1.2.0",
            "_model_module": "@jupyter-widgets/controls"
          }
        },
        "6e3e750ef4c14f69a7d84d3914d787e3": {
          "model_module": "@jupyter-widgets/base",
          "model_name": "LayoutModel",
          "state": {
            "_view_name": "LayoutView",
            "grid_template_rows": null,
            "right": null,
            "justify_content": null,
            "_view_module": "@jupyter-widgets/base",
            "overflow": null,
            "_model_module_version": "1.2.0",
            "_view_count": null,
            "flex_flow": null,
            "width": null,
            "min_width": null,
            "border": null,
            "align_items": null,
            "bottom": null,
            "_model_module": "@jupyter-widgets/base",
            "top": null,
            "grid_column": null,
            "overflow_y": null,
            "overflow_x": null,
            "grid_auto_flow": null,
            "grid_area": null,
            "grid_template_columns": null,
            "flex": null,
            "_model_name": "LayoutModel",
            "justify_items": null,
            "grid_row": null,
            "max_height": null,
            "align_content": null,
            "visibility": null,
            "align_self": null,
            "height": null,
            "min_height": null,
            "padding": null,
            "grid_auto_rows": null,
            "grid_gap": null,
            "max_width": null,
            "order": null,
            "_view_module_version": "1.2.0",
            "grid_template_areas": null,
            "object_position": null,
            "object_fit": null,
            "grid_auto_columns": null,
            "margin": null,
            "display": null,
            "left": null
          }
        },
        "91f86d0efbae4cf98267c43223f3f1fc": {
          "model_module": "@jupyter-widgets/controls",
          "model_name": "HBoxModel",
          "state": {
            "_view_name": "HBoxView",
            "_dom_classes": [],
            "_model_name": "HBoxModel",
            "_view_module": "@jupyter-widgets/controls",
            "_model_module_version": "1.5.0",
            "_view_count": null,
            "_view_module_version": "1.5.0",
            "box_style": "",
            "layout": "IPY_MODEL_c9a2ff70319d473ca6dbaffc89e630f9",
            "_model_module": "@jupyter-widgets/controls",
            "children": [
              "IPY_MODEL_032555241184437bbac22487b48db89b",
              "IPY_MODEL_e7ab999d3a1d438387ac11a40c18e5c1"
            ]
          }
        },
        "c9a2ff70319d473ca6dbaffc89e630f9": {
          "model_module": "@jupyter-widgets/base",
          "model_name": "LayoutModel",
          "state": {
            "_view_name": "LayoutView",
            "grid_template_rows": null,
            "right": null,
            "justify_content": null,
            "_view_module": "@jupyter-widgets/base",
            "overflow": null,
            "_model_module_version": "1.2.0",
            "_view_count": null,
            "flex_flow": null,
            "width": null,
            "min_width": null,
            "border": null,
            "align_items": null,
            "bottom": null,
            "_model_module": "@jupyter-widgets/base",
            "top": null,
            "grid_column": null,
            "overflow_y": null,
            "overflow_x": null,
            "grid_auto_flow": null,
            "grid_area": null,
            "grid_template_columns": null,
            "flex": null,
            "_model_name": "LayoutModel",
            "justify_items": null,
            "grid_row": null,
            "max_height": null,
            "align_content": null,
            "visibility": null,
            "align_self": null,
            "height": null,
            "min_height": null,
            "padding": null,
            "grid_auto_rows": null,
            "grid_gap": null,
            "max_width": null,
            "order": null,
            "_view_module_version": "1.2.0",
            "grid_template_areas": null,
            "object_position": null,
            "object_fit": null,
            "grid_auto_columns": null,
            "margin": null,
            "display": null,
            "left": null
          }
        },
        "032555241184437bbac22487b48db89b": {
          "model_module": "@jupyter-widgets/controls",
          "model_name": "FloatProgressModel",
          "state": {
            "_view_name": "ProgressView",
            "style": "IPY_MODEL_1ce8e5b02afa426cb3301a4df0d96083",
            "_dom_classes": [],
            "description": "Epoch 2/3: 100%",
            "_model_name": "FloatProgressModel",
            "bar_style": "success",
            "max": 2,
            "_view_module": "@jupyter-widgets/controls",
            "_model_module_version": "1.5.0",
            "value": 2,
            "_view_count": null,
            "_view_module_version": "1.5.0",
            "orientation": "horizontal",
            "min": 0,
            "description_tooltip": null,
            "_model_module": "@jupyter-widgets/controls",
            "layout": "IPY_MODEL_3983b9d831604c97b905b1cff15d1f96"
          }
        },
        "e7ab999d3a1d438387ac11a40c18e5c1": {
          "model_module": "@jupyter-widgets/controls",
          "model_name": "HTMLModel",
          "state": {
            "_view_name": "HTMLView",
            "style": "IPY_MODEL_55fd02a5fbb742fe9740e7a95877400c",
            "_dom_classes": [],
            "description": "",
            "_model_name": "HTMLModel",
            "placeholder": "​",
            "_view_module": "@jupyter-widgets/controls",
            "_model_module_version": "1.5.0",
            "value": " 2/2 [00:01&lt;00:00,  1.34it/s, loss=4.85]",
            "_view_count": null,
            "_view_module_version": "1.5.0",
            "description_tooltip": null,
            "_model_module": "@jupyter-widgets/controls",
            "layout": "IPY_MODEL_f6369150ef81418db603bcfa6a50a6af"
          }
        },
        "1ce8e5b02afa426cb3301a4df0d96083": {
          "model_module": "@jupyter-widgets/controls",
          "model_name": "ProgressStyleModel",
          "state": {
            "_view_name": "StyleView",
            "_model_name": "ProgressStyleModel",
            "description_width": "initial",
            "_view_module": "@jupyter-widgets/base",
            "_model_module_version": "1.5.0",
            "_view_count": null,
            "_view_module_version": "1.2.0",
            "bar_color": null,
            "_model_module": "@jupyter-widgets/controls"
          }
        },
        "3983b9d831604c97b905b1cff15d1f96": {
          "model_module": "@jupyter-widgets/base",
          "model_name": "LayoutModel",
          "state": {
            "_view_name": "LayoutView",
            "grid_template_rows": null,
            "right": null,
            "justify_content": null,
            "_view_module": "@jupyter-widgets/base",
            "overflow": null,
            "_model_module_version": "1.2.0",
            "_view_count": null,
            "flex_flow": null,
            "width": null,
            "min_width": null,
            "border": null,
            "align_items": null,
            "bottom": null,
            "_model_module": "@jupyter-widgets/base",
            "top": null,
            "grid_column": null,
            "overflow_y": null,
            "overflow_x": null,
            "grid_auto_flow": null,
            "grid_area": null,
            "grid_template_columns": null,
            "flex": null,
            "_model_name": "LayoutModel",
            "justify_items": null,
            "grid_row": null,
            "max_height": null,
            "align_content": null,
            "visibility": null,
            "align_self": null,
            "height": null,
            "min_height": null,
            "padding": null,
            "grid_auto_rows": null,
            "grid_gap": null,
            "max_width": null,
            "order": null,
            "_view_module_version": "1.2.0",
            "grid_template_areas": null,
            "object_position": null,
            "object_fit": null,
            "grid_auto_columns": null,
            "margin": null,
            "display": null,
            "left": null
          }
        },
        "55fd02a5fbb742fe9740e7a95877400c": {
          "model_module": "@jupyter-widgets/controls",
          "model_name": "DescriptionStyleModel",
          "state": {
            "_view_name": "StyleView",
            "_model_name": "DescriptionStyleModel",
            "description_width": "",
            "_view_module": "@jupyter-widgets/base",
            "_model_module_version": "1.5.0",
            "_view_count": null,
            "_view_module_version": "1.2.0",
            "_model_module": "@jupyter-widgets/controls"
          }
        },
        "f6369150ef81418db603bcfa6a50a6af": {
          "model_module": "@jupyter-widgets/base",
          "model_name": "LayoutModel",
          "state": {
            "_view_name": "LayoutView",
            "grid_template_rows": null,
            "right": null,
            "justify_content": null,
            "_view_module": "@jupyter-widgets/base",
            "overflow": null,
            "_model_module_version": "1.2.0",
            "_view_count": null,
            "flex_flow": null,
            "width": null,
            "min_width": null,
            "border": null,
            "align_items": null,
            "bottom": null,
            "_model_module": "@jupyter-widgets/base",
            "top": null,
            "grid_column": null,
            "overflow_y": null,
            "overflow_x": null,
            "grid_auto_flow": null,
            "grid_area": null,
            "grid_template_columns": null,
            "flex": null,
            "_model_name": "LayoutModel",
            "justify_items": null,
            "grid_row": null,
            "max_height": null,
            "align_content": null,
            "visibility": null,
            "align_self": null,
            "height": null,
            "min_height": null,
            "padding": null,
            "grid_auto_rows": null,
            "grid_gap": null,
            "max_width": null,
            "order": null,
            "_view_module_version": "1.2.0",
            "grid_template_areas": null,
            "object_position": null,
            "object_fit": null,
            "grid_auto_columns": null,
            "margin": null,
            "display": null,
            "left": null
          }
        },
        "67452f0d6b0b4c0dbdc6b7c8b59597d6": {
          "model_module": "@jupyter-widgets/controls",
          "model_name": "HBoxModel",
          "state": {
            "_view_name": "HBoxView",
            "_dom_classes": [],
            "_model_name": "HBoxModel",
            "_view_module": "@jupyter-widgets/controls",
            "_model_module_version": "1.5.0",
            "_view_count": null,
            "_view_module_version": "1.5.0",
            "box_style": "",
            "layout": "IPY_MODEL_ef87dc6b10174a33b6c3fcf68745a62a",
            "_model_module": "@jupyter-widgets/controls",
            "children": [
              "IPY_MODEL_f0ccb806db994f10a2df927c3e19e78f",
              "IPY_MODEL_12c44786f9d645988eef422e5cf83dad"
            ]
          }
        },
        "ef87dc6b10174a33b6c3fcf68745a62a": {
          "model_module": "@jupyter-widgets/base",
          "model_name": "LayoutModel",
          "state": {
            "_view_name": "LayoutView",
            "grid_template_rows": null,
            "right": null,
            "justify_content": null,
            "_view_module": "@jupyter-widgets/base",
            "overflow": null,
            "_model_module_version": "1.2.0",
            "_view_count": null,
            "flex_flow": null,
            "width": null,
            "min_width": null,
            "border": null,
            "align_items": null,
            "bottom": null,
            "_model_module": "@jupyter-widgets/base",
            "top": null,
            "grid_column": null,
            "overflow_y": null,
            "overflow_x": null,
            "grid_auto_flow": null,
            "grid_area": null,
            "grid_template_columns": null,
            "flex": null,
            "_model_name": "LayoutModel",
            "justify_items": null,
            "grid_row": null,
            "max_height": null,
            "align_content": null,
            "visibility": null,
            "align_self": null,
            "height": null,
            "min_height": null,
            "padding": null,
            "grid_auto_rows": null,
            "grid_gap": null,
            "max_width": null,
            "order": null,
            "_view_module_version": "1.2.0",
            "grid_template_areas": null,
            "object_position": null,
            "object_fit": null,
            "grid_auto_columns": null,
            "margin": null,
            "display": null,
            "left": null
          }
        },
        "f0ccb806db994f10a2df927c3e19e78f": {
          "model_module": "@jupyter-widgets/controls",
          "model_name": "FloatProgressModel",
          "state": {
            "_view_name": "ProgressView",
            "style": "IPY_MODEL_768ef311153b44fdbd6746b0f551cdab",
            "_dom_classes": [],
            "description": "Epoch 3/3: 100%",
            "_model_name": "FloatProgressModel",
            "bar_style": "success",
            "max": 2,
            "_view_module": "@jupyter-widgets/controls",
            "_model_module_version": "1.5.0",
            "value": 2,
            "_view_count": null,
            "_view_module_version": "1.5.0",
            "orientation": "horizontal",
            "min": 0,
            "description_tooltip": null,
            "_model_module": "@jupyter-widgets/controls",
            "layout": "IPY_MODEL_0e93c484025b4ecd98cca13f3537800e"
          }
        },
        "12c44786f9d645988eef422e5cf83dad": {
          "model_module": "@jupyter-widgets/controls",
          "model_name": "HTMLModel",
          "state": {
            "_view_name": "HTMLView",
            "style": "IPY_MODEL_66a974f1be2a4d7bb669e3fa1ea64d2e",
            "_dom_classes": [],
            "description": "",
            "_model_name": "HTMLModel",
            "placeholder": "​",
            "_view_module": "@jupyter-widgets/controls",
            "_model_module_version": "1.5.0",
            "value": " 2/2 [00:01&lt;00:00,  1.34it/s, loss=9.57]",
            "_view_count": null,
            "_view_module_version": "1.5.0",
            "description_tooltip": null,
            "_model_module": "@jupyter-widgets/controls",
            "layout": "IPY_MODEL_283aa1daaa9c4992b1c214edc7f452e8"
          }
        },
        "768ef311153b44fdbd6746b0f551cdab": {
          "model_module": "@jupyter-widgets/controls",
          "model_name": "ProgressStyleModel",
          "state": {
            "_view_name": "StyleView",
            "_model_name": "ProgressStyleModel",
            "description_width": "initial",
            "_view_module": "@jupyter-widgets/base",
            "_model_module_version": "1.5.0",
            "_view_count": null,
            "_view_module_version": "1.2.0",
            "bar_color": null,
            "_model_module": "@jupyter-widgets/controls"
          }
        },
        "0e93c484025b4ecd98cca13f3537800e": {
          "model_module": "@jupyter-widgets/base",
          "model_name": "LayoutModel",
          "state": {
            "_view_name": "LayoutView",
            "grid_template_rows": null,
            "right": null,
            "justify_content": null,
            "_view_module": "@jupyter-widgets/base",
            "overflow": null,
            "_model_module_version": "1.2.0",
            "_view_count": null,
            "flex_flow": null,
            "width": null,
            "min_width": null,
            "border": null,
            "align_items": null,
            "bottom": null,
            "_model_module": "@jupyter-widgets/base",
            "top": null,
            "grid_column": null,
            "overflow_y": null,
            "overflow_x": null,
            "grid_auto_flow": null,
            "grid_area": null,
            "grid_template_columns": null,
            "flex": null,
            "_model_name": "LayoutModel",
            "justify_items": null,
            "grid_row": null,
            "max_height": null,
            "align_content": null,
            "visibility": null,
            "align_self": null,
            "height": null,
            "min_height": null,
            "padding": null,
            "grid_auto_rows": null,
            "grid_gap": null,
            "max_width": null,
            "order": null,
            "_view_module_version": "1.2.0",
            "grid_template_areas": null,
            "object_position": null,
            "object_fit": null,
            "grid_auto_columns": null,
            "margin": null,
            "display": null,
            "left": null
          }
        },
        "66a974f1be2a4d7bb669e3fa1ea64d2e": {
          "model_module": "@jupyter-widgets/controls",
          "model_name": "DescriptionStyleModel",
          "state": {
            "_view_name": "StyleView",
            "_model_name": "DescriptionStyleModel",
            "description_width": "",
            "_view_module": "@jupyter-widgets/base",
            "_model_module_version": "1.5.0",
            "_view_count": null,
            "_view_module_version": "1.2.0",
            "_model_module": "@jupyter-widgets/controls"
          }
        },
        "283aa1daaa9c4992b1c214edc7f452e8": {
          "model_module": "@jupyter-widgets/base",
          "model_name": "LayoutModel",
          "state": {
            "_view_name": "LayoutView",
            "grid_template_rows": null,
            "right": null,
            "justify_content": null,
            "_view_module": "@jupyter-widgets/base",
            "overflow": null,
            "_model_module_version": "1.2.0",
            "_view_count": null,
            "flex_flow": null,
            "width": null,
            "min_width": null,
            "border": null,
            "align_items": null,
            "bottom": null,
            "_model_module": "@jupyter-widgets/base",
            "top": null,
            "grid_column": null,
            "overflow_y": null,
            "overflow_x": null,
            "grid_auto_flow": null,
            "grid_area": null,
            "grid_template_columns": null,
            "flex": null,
            "_model_name": "LayoutModel",
            "justify_items": null,
            "grid_row": null,
            "max_height": null,
            "align_content": null,
            "visibility": null,
            "align_self": null,
            "height": null,
            "min_height": null,
            "padding": null,
            "grid_auto_rows": null,
            "grid_gap": null,
            "max_width": null,
            "order": null,
            "_view_module_version": "1.2.0",
            "grid_template_areas": null,
            "object_position": null,
            "object_fit": null,
            "grid_auto_columns": null,
            "margin": null,
            "display": null,
            "left": null
          }
        }
      }
    }
  },
  "cells": [
    {
      "cell_type": "code",
      "execution_count": null,
      "source": [
        "#DEEP CLUSTER IMPLEMENTED TO INVESTIGATE ITEMS WITH SIMILAR RELATIONSHIPS TO FUTURE TOTAL SALES~~~~~~~~~~~~~~~~~~~~~~~~~~~~~~~~~~~~~~~~~~~~~~~~~~~~~~~~~~~~~~~~~~~~~~~~~~~~~~~~~~~~\n",
        "#Evan Brown, Oct 23, 2020"
      ],
      "outputs": [],
      "metadata": {
        "id": "HUFSwvmAW9bB"
      }
    },
    {
      "cell_type": "code",
      "execution_count": null,
      "source": [
        "import tensorflow as tf\n",
        "import tensorflow_hub as hub\n",
        "import keras\n",
        "import keras.backend as K\n",
        "import pandas as pd\n",
        "import numpy as np\n",
        "import matplotlib.pyplot as plt\n",
        "from math import log\n",
        "from math import e\n",
        "import sys\n",
        "import matplotlib.style as style\n",
        "from sklearn.metrics import mean_squared_error as mse\n",
        "from sklearn.decomposition import PCA\n",
        "from sklearn.manifold import TSNE\n",
        "from sklearn.feature_selection import chi2\n",
        "from sklearn.metrics import r2_score"
      ],
      "outputs": [],
      "metadata": {
        "id": "0K-RU59aHBmw"
      }
    },
    {
      "cell_type": "code",
      "execution_count": null,
      "source": [
        "#~~~~~~~~~~~~~~~~~~~DRIVE~~~~~~~~~~~~~~~~~\n",
        "# file_list = ['/content/Online Retail.xlsx',\n",
        "#   ]\n",
        "#~~~~~~~~~~~~~~~~~~~LOCAL~~~~~~~~~~~~~~~~~\n",
        "file_list = ['/home/evan/Desktop/datasets/online sales/Online Retail.xlsx',\n",
        "             '/home/evan/Desktop/datasets/online sales/Online Retail_II.xlsx']"
      ],
      "outputs": [],
      "metadata": {
        "id": "p1FIrb0p7fE8"
      }
    },
    {
      "cell_type": "code",
      "execution_count": null,
      "source": [
        "def read_excel_files(file_list,columns, skiprows=None, nrows=1000): #reduce nrows for experimentation\n",
        "  data_list=[]\n",
        "  for file_ in file_list:\n",
        "    pd_data = pd.read_excel(file_, skiprows=skiprows,nrows=nrows)             \n",
        "    pd_data.columns=columns\n",
        "    data_list.append(pd_data) \n",
        "  return pd.concat(data_list)\n",
        "\n",
        "data = read_excel_files(file_list=file_list,columns=['invoice', 'item_code','item','quantity','date','price','customer','country'], skiprows=1,nrows=50000)\n",
        "mask = data['country'] != 'United Kingdom'\n",
        "data = data[mask]\n",
        "data.reindex()"
      ],
      "outputs": [],
      "metadata": {
        "id": "p6TqVzcA7fur",
        "colab": {
          "base_uri": "https://localhost:8080/",
          "height": 404
        },
        "outputId": "224c812d-5f9f-4717-f4de-0d5b418e3cf3"
      }
    },
    {
      "cell_type": "code",
      "execution_count": null,
      "source": [
        "#~~~~~~~CONVERT FEATURES TO STRING , AUGMENT AND EXTRACT FEATURES, DELETE IRRELEVANT FEATURES~~~~~\n",
        "\n",
        "#split item_code into letter and number\n",
        "data['item_code_letter']=data['item_code'].astype(str).str.extract('([A-Za-z]+)', expand=False)\n",
        "data['item_code_num']=data['item_code'].astype(str).str.extract('([0-9]+)', expand=False)\n",
        "data.drop('item_code',axis=1,inplace=True)\n",
        "\n",
        "#create total_sales from quantity and       price\n",
        "data['total_sales']=data['quantity']*data['price'] \n",
        "for _ in 'quantity','price': data.drop(_, axis=1,inplace=True)\n",
        "target=data['total_sales']#~~~~~~~~~~~~~~~~~~~~~~~~~~~~~~~~~~~~~~~~y\n",
        "target=target[1:]#shift up by dropping last target\n",
        "data=data[:-1]#and dropping first instance\n",
        "\n",
        "\n",
        "#tokenize categorical variables\n",
        "data['item_code_letter'] = data['item_code_letter'].astype('category').cat.codes\n",
        "data['item_code_num'] = data['item_code_num'].astype('category').cat.codes\n",
        "data['invoice']=data['invoice'].astype('category').cat.codes\n",
        "data['customer']=data['customer'].astype('category').cat.codes\n",
        "data['country']=data['country'].astype('category').cat.codes+1 #+1 so it will be 0-indexed\n",
        "data['date']=data['date'].astype('category').cat.codes\n",
        "\n",
        "#convert item to string\n",
        "data['item']=data['item'].astype('str')\n",
        "\n",
        "#************discovered that date is a linear combination of invoice(date=invoice+12). therefore removing invoice variable\n",
        "print((data['invoice'] == data['date']-12).count())\n",
        "data.drop('invoice',axis=1,inplace=True)"
      ],
      "outputs": [],
      "metadata": {
        "id": "8_QSPoJXW9bM",
        "colab": {
          "base_uri": "https://localhost:8080/"
        },
        "outputId": "975bbb5d-daf8-4631-bd7b-ca11f394d6f4"
      }
    },
    {
      "cell_type": "code",
      "execution_count": null,
      "source": [
        "#QUANTIZE TARGET INTO N_CLASSES\n",
        "\n",
        "n_classes = 10\n",
        "min_ = int(np.min(target))-1\n",
        "max_ = int(np.max(target))+1\n",
        "\n",
        "#bin indices(times 100 and divided by n_classes ) are percentiles\n",
        "bins = np.linspace(min_,max_,n_classes)\n",
        "target_bins = pd.cut(target, bins)"
      ],
      "outputs": [],
      "metadata": {
        "id": "fZh6pdF6kmjM"
      }
    },
    {
      "cell_type": "code",
      "execution_count": null,
      "source": [
        "target_bins.cat.codes.unique()"
      ],
      "outputs": [],
      "metadata": {
        "id": "uuS1I45_0lV4",
        "colab": {
          "base_uri": "https://localhost:8080/",
          "height": 166
        },
        "outputId": "fc10a01e-f835-4b68-c87e-d289fb763c4e"
      }
    },
    {
      "cell_type": "code",
      "execution_count": null,
      "source": [
        "bins.shape"
      ],
      "outputs": [],
      "metadata": {
        "id": "hKY6-xlg4RKF",
        "colab": {
          "base_uri": "https://localhost:8080/"
        },
        "outputId": "c44d413e-0a14-4685-c879-237b2b6eb01e"
      }
    },
    {
      "cell_type": "code",
      "execution_count": null,
      "source": [
        "target_bins=target_bins.cat.codes"
      ],
      "outputs": [],
      "metadata": {
        "id": "ev_b2TYrEXuD"
      }
    },
    {
      "cell_type": "code",
      "execution_count": null,
      "source": [
        "#~~~~~~~~~~~~~~~~PREPARE INPUT VECTORS~~~~~~~~~~~~~~~~~~~~~~~~~~~~~~~~~\n",
        "\n",
        "#~~~~~~~~~~~~~~~~~ONEHOT on X~~~~~~~~~~~~~~~~~~~~~~~~~~~~~~~~~~~~~~~~~~~~~~~~~~~~~~~~~~~~~\n",
        "\n",
        "#not including date in one-hot transformation because most of the information it provides is the data's time dimension\n",
        "date = data['date'].values\n",
        "total_sales=data['total_sales'].values.astype(np.float32)\n",
        "#definitely want to encode item_code_letter and item_code_number together \n",
        "#creating a one-hot from these\n",
        "item_code_hot = pd.get_dummies(data=data[['item_code_num','item_code_letter']], columns=['item_code_num','item_code_letter'])\n",
        "\n",
        "\n",
        "#separately encoding 'item, 'customer, 'country #item will go through pretrained embeddng layer as-is\n",
        "customer_hot=pd.get_dummies(data.loc[:,'customer'])\n",
        "country_hot=pd.get_dummies(data.loc[:,'country'])\n",
        "item=data['item']"
      ],
      "outputs": [],
      "metadata": {
        "id": "8ihLcGwHW9bP"
      }
    },
    {
      "cell_type": "code",
      "execution_count": null,
      "source": [
        "#~~~~~~~~~~~~~~~~~~~~INPUT LAYERS~~~~~~~~~~~~~~~~~~~~~~~~~~~~~~~~~~~~\n",
        "  #0          1           2           3           4\n",
        "#item, customer_hot, country_hot,item_code_hot,date\n",
        "for _ in [item.shape,customer_hot.shape,country_hot.shape,item_code_hot.shape,date.shape]: print(_)\n",
        "\n",
        "input_item = keras.layers.Input(shape=item.shape[1:],dtype=tf.string)#this kerasLayer expects [batch_size, None]\n",
        "input_customer_hot = keras.layers.Input(shape=customer_hot.shape[1:])\n",
        "input_country_hot=  keras.layers.Input(shape=country_hot.shape[1:])\n",
        "input_item_code_hot=keras.layers.Input(shape=item_code_hot.shape[1:])\n",
        "input_date    =    keras.layers.Input(shape=1, dtype=tf.float32) #expects [batch, 1]\n",
        "input_total_sales = keras.layers.Input(shape=1, dtype=tf.float32)"
      ],
      "outputs": [],
      "metadata": {
        "id": "4r0bkXPvW9bS",
        "colab": {
          "base_uri": "https://localhost:8080/"
        },
        "outputId": "7ec4c285-3e31-49b4-b525-d5deb2a3af79"
      }
    },
    {
      "cell_type": "code",
      "execution_count": null,
      "source": [
        "#~~~~~~~~~~~~~~~~EMBEDDING LAYERS~~~~~~~~~~~~~~~~~~~~~~~~~~~~~~~~~~~~~~~~~~~~~~~~~~\n",
        "\n",
        "#DIMENSION GLOBALS\n",
        "emb_d0 = 50 #pretrained with 50 as output_shape\n",
        "emb_d1 = 100 \n",
        "emb_d2 =  100\n",
        "emb_d3 =  100\n",
        "\n",
        "\n",
        "emb_layer0=hub.KerasLayer('https://tfhub.dev/google/tf2-preview/nnlm-en-dim50/1', dtype =tf.string, input_shape =[], output_shape=[emb_d0],name='emb0')\n",
        "emb_layer1=keras.layers.Embedding(input_dim=input_customer_hot.shape[-1], output_dim = emb_d1,name='emb1')\n",
        "emb_layer2=keras.layers.Embedding(input_dim=input_country_hot.shape[-1], output_dim = emb_d2,name='emb2')\n",
        "emb_layer3=keras.layers.Embedding(input_dim=input_item_code_hot.shape[-1], output_dim = emb_d3,name='emb3')\n",
        "\n",
        "#Batch Normalize~~~~~~~~~~~~~~~~~~\n",
        "def bn_layer():\n",
        "  return keras.layers.BatchNormalization()\n",
        "\n",
        "outL1_0 = bn_layer()(emb_layer0(input_item))\n",
        "outL1_1 = bn_layer()(emb_layer1(input_customer_hot))\n",
        "outL1_2 = bn_layer()(emb_layer2(input_country_hot))\n",
        "outL1_3 = bn_layer()(emb_layer3(input_item_code_hot))"
      ],
      "outputs": [],
      "metadata": {
        "id": "dRCGh_-lW9bW"
      }
    },
    {
      "cell_type": "code",
      "execution_count": null,
      "source": [
        "#~~~~~~~~~~~dense layers between embedding and flatten layers~~~~~~~~~~~~~~\n",
        "from tensorflow.keras.constraints import max_norm\n",
        "\n",
        "def dense_layer():\n",
        "  return keras.layers.Dense(100, activation='relu', kernel_initializer='he_normal', kernel_constraint=max_norm(.0001),kernel_regularizer='l1')\n",
        "\n",
        "outL2_0=bn_layer()(dense_layer()(outL1_0))\n",
        "outL2_1=bn_layer()(dense_layer()(outL1_1))\n",
        "outL2_2=bn_layer()(dense_layer()(outL1_2))\n",
        "outL2_3=bn_layer()(dense_layer()(outL1_3))\n",
        "\n",
        "# ~~~~~~~~~~~~~~~~~FLATTEN~~~~~~~~~~~~~~~~~~~~~~~~~~~~~~~~~~~~~~~~~~~~~~~~~~`\n",
        "outL3_0 = keras.layers.Flatten(name='flat0')(outL2_0)\n",
        "outL3_1 = keras.layers.Flatten(name='flat1')(outL2_1)\n",
        "outL3_2 = keras.layers.Flatten(name='flat2')(outL2_2)\n",
        "outL3_3 = keras.layers.Flatten(name='flat3')(outL2_3)\n",
        "\n",
        "#Batch Normalize~~~~~~~~~~~~~~~~~~\n",
        "\n",
        "#~~~~~~~~~~~~~~~~DENSE~~~~~~~~~~~~~~~~~~~~~~~~~~~~~~\n",
        "outL4_0=bn_layer()(dense_layer()(outL3_0))\n",
        "outL4_1=bn_layer()(dense_layer()(outL3_1))\n",
        "outL4_2=bn_layer()(dense_layer()(outL3_2))\n",
        "outL4_3=bn_layer()(dense_layer()(outL3_3))\n",
        "#no 4\n",
        "#no 5"
      ],
      "outputs": [],
      "metadata": {
        "id": "aPFjcLo_W9bd"
      }
    },
    {
      "cell_type": "code",
      "execution_count": null,
      "source": [
        "#~~~~~~~~~CONCATENATE 1~~~~~~~~~~~~~~~~~~~~~~~~~~~~~~~~~~~~~~~~~\n",
        "concat1 = keras.layers.Concatenate(axis=1)([outL4_0,outL4_1,outL4_2,outL4_3])"
      ],
      "outputs": [],
      "metadata": {
        "id": "pQOiVIdmW9bg"
      }
    },
    {
      "cell_type": "code",
      "execution_count": null,
      "source": [
        "#~~~~~~~~~~~EXTRA DENSE~~~~~~~~~~~~~~~~~~~~~~~~~~~~~~~~~~~~~~~\n",
        "outL5 = bn_layer()(dense_layer()(concat1))\n",
        "outL6 = bn_layer()(dense_layer()(outL5))\n",
        "# outL7 = keras.layers.Dense(1, activation=None)(outL6)#***not used #output of this layer represents the features learned from item names and category codes and countries"
      ],
      "outputs": [],
      "metadata": {
        "id": "DB6F3b3_W9bi"
      }
    },
    {
      "cell_type": "code",
      "execution_count": null,
      "source": [
        "#~~~~~~~~CONCATENATE 2~~~~~~~~~~~\n",
        "#functions as linear combination of outL7, and sales (weights of inputs are learned)\n",
        "concat2=keras.layers.Concatenate(axis=1)([outL6,input_total_sales])"
      ],
      "outputs": [],
      "metadata": {
        "id": "bIfy58hx7SOP"
      }
    },
    {
      "cell_type": "code",
      "execution_count": null,
      "source": [
        "#~~~~~~~~OUTPUT~~~~~~~~~~~~~~~~~~~~~~\n",
        "output = keras.layers.Dense(n_classes, activation='softmax',name='out')(concat2)"
      ],
      "outputs": [],
      "metadata": {
        "id": "Zk115kicW9bl"
      }
    },
    {
      "cell_type": "code",
      "execution_count": null,
      "source": [
        "#~~~~~~~~~COMPILE~~~~~~~~~~~~~~~~~~~~~~~~~~~~\n",
        "K.clear_session()\n",
        "model= keras.Model(inputs=[input_item,input_customer_hot,input_country_hot,input_item_code_hot,input_total_sales], outputs=[concat2,output])\n",
        "optimizer=keras.optimizers.Nadam(lr=0.01,clipvalue=.01, clipnorm=.25)      #minimum lr=0.005   ~~~~~~~~~~~~~~~~~~~~~~   ******set lr here*****\n",
        "model.compile(optimizer=optimizer, loss=['sparse_categorical_crossentropy',None],loss_weights=[1., 0.0])\n",
        "keras.utils.plot_model(model, \"my_fashion_mnist_model.png\", show_shapes=True)"
      ],
      "outputs": [],
      "metadata": {
        "id": "up8CVHDeW9bo",
        "colab": {
          "base_uri": "https://localhost:8080/",
          "height": 892
        },
        "outputId": "bc37173d-2bcf-4eaf-dab9-7803faeae93d"
      }
    },
    {
      "cell_type": "code",
      "execution_count": null,
      "source": [
        "X= data\n",
        "y= target_bins"
      ],
      "outputs": [],
      "metadata": {
        "id": "lLtQHBD3Hcma"
      }
    },
    {
      "cell_type": "code",
      "execution_count": null,
      "source": [
        "target_bins = target_bins.values"
      ],
      "outputs": [],
      "metadata": {
        "id": "PwyQ_LoTMK_M"
      }
    },
    {
      "cell_type": "code",
      "execution_count": null,
      "source": [
        "item = item.values\n"
      ],
      "outputs": [],
      "metadata": {
        "id": "14GUkfjwT-ZK"
      }
    },
    {
      "cell_type": "code",
      "execution_count": null,
      "source": [
        "def random_batch(X, y, batch_size=32):\n",
        "    idx = np.random.randint(len(X[0]), size=batch_size)\n",
        "    return [x[idx] for x in X], y[idx]\n",
        "loss_fn = keras.losses.sparse_categorical_crossentropy\n",
        "mean_loss = keras.metrics.Mean()"
      ],
      "outputs": [],
      "metadata": {
        "id": "tqCBBlMoN-Wl"
      }
    },
    {
      "cell_type": "code",
      "execution_count": null,
      "source": [
        "model.layers[-2]"
      ],
      "outputs": [],
      "metadata": {
        "id": "9Hf6r-1YSS-G",
        "colab": {
          "base_uri": "https://localhost:8080/"
        },
        "outputId": "274dbacc-4f84-4b64-ba30-4e470fd48555"
      }
    },
    {
      "cell_type": "code",
      "execution_count": null,
      "source": [
        "len(target_bins)"
      ],
      "outputs": [],
      "metadata": {
        "colab": {
          "base_uri": "https://localhost:8080/"
        },
        "id": "OsYd3gFx_xyn",
        "outputId": "8bbc1ee0-9ae0-4807-d262-7440f954fd9d"
      }
    },
    {
      "cell_type": "code",
      "execution_count": null,
      "source": [
        "target_bins.shape"
      ],
      "outputs": [],
      "metadata": {
        "colab": {
          "base_uri": "https://localhost:8080/"
        },
        "id": "aWFRj8f3Aj-O",
        "outputId": "5a520f0f-764a-43df-bd7a-96f671b0fee1"
      }
    },
    {
      "cell_type": "code",
      "execution_count": null,
      "source": [
        "#INSTEAD OF RANDOM BATCH, USE SEQUENTIAL BATCH OVER SHUFFLED INSTANCES IN ORDER TO APPLY \n",
        "#MODEL ACROSS ALL INSTANCES TO GENERATE EMBEDDINGS FOR NEXT EPOCH\n",
        "#---THIS WILL BE FASTER THAN THE CURRENT IMPLEMENTATION WHERE THE MODEL IS RUN AGAIN OVER ALL INSTANCES AT THE END\n",
        "#---ONLY TRADEOFF IS THAT INSTANCES ARE GOING TO BE SLIGHTLY DEPENDENT"
      ],
      "outputs": [],
      "metadata": {
        "id": "C2atc_5KA8om"
      }
    },
    {
      "cell_type": "code",
      "execution_count": null,
      "source": [
        "\n",
        "import faiss\n",
        "from sklearn.cluster import KMeans\n",
        "from tqdm.notebook import trange\n",
        "from collections import OrderedDict\n",
        "\n",
        "metrics = []#[keras.metrics.MeanAbsoluteError()]\n",
        "n_epochs = 3\n",
        "batch_size = 1024\n",
        "n_steps = len(data)//batch_size\n",
        "embedding = None\n",
        "y_target = target_bins #initial target- psuedo labels (clusters) used on subsequent iterations\n",
        "kmeans = KMeans(n_clusters=10)\n",
        "\n",
        "\n",
        "with trange(1, n_epochs + 1, desc=\"All epochs\") as epochs:\n",
        "    for epoch in epochs:\n",
        "        with trange(1, n_steps + 1, desc=\"Epoch {}/{}\".format(epoch, n_epochs)) as steps:\n",
        "            for step in steps:\n",
        "                X_batch,y_batch= random_batch([item,customer_hot.values,country_hot.values,item_code_hot.values,date,total_sales],y_target)\n",
        "\n",
        "                with tf.GradientTape() as tape:\n",
        "                    \n",
        "                    embedding, y_pred = model(X_batch) #embedding not used here\n",
        "\n",
        "                  \n",
        "                    main_loss = tf.reduce_mean(loss_fn(y_batch, y_pred))\n",
        "                    loss = tf.add_n([main_loss] + model.losses)\n",
        "                gradients = tape.gradient(loss, model.trainable_variables)\n",
        "                optimizer.apply_gradients(zip(gradients, model.trainable_variables))\n",
        "                for variable in model.variables:\n",
        "                    if variable.constraint is not None:\n",
        "                        variable.assign(variable.constraint(variable))                    \n",
        "                status = OrderedDict()\n",
        "                mean_loss(loss)\n",
        "                status[\"loss\"] = mean_loss.result().numpy()\n",
        "                for metric in metrics:\n",
        "                    metric(y_batch, y_pred)\n",
        "                    status[metric.name] = metric.result().numpy()\n",
        "                steps.set_postfix(status)\n",
        "        \n",
        "        #generate embedding and predictions for full dataset\n",
        "        embedding,epoch_predictions = model.predict([item,customer_hot.values,country_hot.values,item_code_hot.values,date,total_sales])\n",
        "        \n",
        "        # Apply PCA with whitening\n",
        "        mat = faiss.PCAMatrix(d_in=101, d_out=15, eigen_power=-0.5)\n",
        "        mat.train(embedding)\n",
        "        embedding_pca = mat.apply_py(embedding)\n",
        "\n",
        "        #l2 normalize pca embedded instances\n",
        "        norm = np.linalg.norm(embedding_pca, axis=1)\n",
        "        embedding_l2 = embedding_pca / norm[:, np.newaxis]\n",
        "    \n",
        "        #Kmeans cluster to get pseudo labels\n",
        "        kmeans.fit(embedding_l2)\n",
        "        y_target = kmeans.predict(embedding_l2)\n",
        "\n",
        "        for metric in [mean_loss] + metrics:\n",
        "            metric.reset_states()"
      ],
      "outputs": [],
      "metadata": {
        "id": "18j9I5S1N5iu",
        "colab": {
          "base_uri": "https://localhost:8080/",
          "height": 372,
          "referenced_widgets": [
            "8a0358d8dba2491bb0ce100bcf43fe5b",
            "df590c69000843bfbaa02f687732696c",
            "ce58848b25af4c62b3fea4cd1e93dca8",
            "d25f2f513f7741a7aa04fc3432efb5f9",
            "f7c21f878cd6436ea8ba2c33ceb7998c",
            "4cd4b4bc89ce412397d30a467de7c2f9",
            "6f7ef34defcd49d693b9b9d8d6e6262f",
            "46536fb7b7764c2090cb34e316f1f308",
            "a890924618c24f5c8c5bba58ec5b5fae",
            "a8dd2a36913d4edd8e9efaff53cf0d85",
            "b9ffcd5cad5a43228484540727849fe9",
            "06007fa9cd274afa8e2eda602a60764f",
            "ed3faaee41794cf4a8098d19bb604142",
            "2ac2335e89e74592abc1d7ccf72e9d51",
            "5005df22cf87409e872481a8104ce95e",
            "6e3e750ef4c14f69a7d84d3914d787e3",
            "91f86d0efbae4cf98267c43223f3f1fc",
            "c9a2ff70319d473ca6dbaffc89e630f9",
            "032555241184437bbac22487b48db89b",
            "e7ab999d3a1d438387ac11a40c18e5c1",
            "1ce8e5b02afa426cb3301a4df0d96083",
            "3983b9d831604c97b905b1cff15d1f96",
            "55fd02a5fbb742fe9740e7a95877400c",
            "f6369150ef81418db603bcfa6a50a6af",
            "67452f0d6b0b4c0dbdc6b7c8b59597d6",
            "ef87dc6b10174a33b6c3fcf68745a62a",
            "f0ccb806db994f10a2df927c3e19e78f",
            "12c44786f9d645988eef422e5cf83dad",
            "768ef311153b44fdbd6746b0f551cdab",
            "0e93c484025b4ecd98cca13f3537800e",
            "66a974f1be2a4d7bb669e3fa1ea64d2e",
            "283aa1daaa9c4992b1c214edc7f452e8"
          ]
        },
        "outputId": "b91ca0a6-52b4-44bc-e9fd-86f478e63072"
      }
    },
    {
      "cell_type": "code",
      "execution_count": null,
      "source": [
        "#final epoch's embedding of training instances\n",
        "embedding.shape"
      ],
      "outputs": [],
      "metadata": {}
    },
    {
      "cell_type": "code",
      "execution_count": null,
      "source": [],
      "outputs": [],
      "metadata": {}
    },
    {
      "cell_type": "code",
      "execution_count": null,
      "source": [],
      "outputs": [],
      "metadata": {}
    },
    {
      "cell_type": "code",
      "execution_count": null,
      "source": [],
      "outputs": [],
      "metadata": {}
    },
    {
      "cell_type": "code",
      "execution_count": null,
      "source": [
        "#~~~~~~PLOT CLUSTERED REPRESENTATIONS OF INSTANCES IN 3D, LABEL EACH BY PRODUCT NAME~~~~~~~"
      ],
      "outputs": [],
      "metadata": {}
    },
    {
      "cell_type": "code",
      "execution_count": null,
      "source": [
        "%matplotlib inline\n",
        "from mpl_toolkits import mplot3d\n",
        "from sklearn.cluster import KMeans\n",
        "import random \n",
        "def visualize_emb(embeddings, dim_reduce, labels,label_name):\n",
        "  embedded_3d = dim_reduce.fit_transform(embeddings)\n",
        "  \n",
        "  kmeans = KMeans(n_clusters=2)\n",
        "  kmeans.fit(embedded_3d)\n",
        "  clustered_instances = kmeans.predict(embedded_3d)\n",
        "  clustered_instances = np.array(clustered_instances).astype(bool)\n",
        "  \n",
        "  cluster1 = data[['item','total_sales']][:n_points][clustered_instances]\n",
        "  cluster2 = data[['item','total_sales']][:n_points][~clustered_instances]\n",
        "\n",
        "  print('cluster 1:',cluster1)\n",
        "  print('cluster 2:',cluster2)\n",
        "  print('mean 1:', np.mean(cluster1['total_sales']),\n",
        "        'mean 2:', np.mean(cluster2['total_sales']))\n",
        "\n",
        "  fig = plt.figure()\n",
        "  ax = mplot3d.Axes3D(fig)\n",
        "\n",
        "  y = embedded_3d[:,0]\n",
        "  z =  embedded_3d[:,1]\n",
        "  x = embedded_3d[:,2]\n",
        "\n",
        "  ax.scatter(y,z) \n",
        "  ax.set_title('embedding: '+str(label_name))\n",
        "\n",
        "  for i, txt in enumerate(labels):\n",
        "        ax.annotate(txt, (y[i]+random.uniform(-.001,.001), z[i]+random.uniform(-.001,.001),x[i]+random.uniform(-.001,.001)))#adjust random uniform range to add variability to annotation location\n",
        "        plt.show()\n",
        "\n",
        "\n",
        "n_points = 100\n",
        "y = data['item'][:n_points]\n",
        "from sklearn.decomposition import PCA\n",
        "pca = PCA(n_components=3)\n",
        "# visualize_emb(customer_hot[:n_points],tsne, y.values, 'tsne customer')\n",
        "visualize_emb(country_hot[:n_points].values,pca,  y.values,'pca country')\n",
        "visualize_emb(item_code_hot[:n_points].values,pca, y.values, 'pca item code')"
      ],
      "outputs": [],
      "metadata": {}
    }
  ]
}